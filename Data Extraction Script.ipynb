{
 "cells": [
  {
   "cell_type": "code",
   "execution_count": 110,
   "metadata": {},
   "outputs": [],
   "source": [
    "import googleanalytics as ga\n",
    "import pandas as pd\n",
    "import getpass"
   ]
  },
  {
   "cell_type": "code",
   "execution_count": 118,
   "metadata": {},
   "outputs": [
    {
     "name": "stdout",
     "output_type": "stream",
     "text": [
      "Please enter you client-id. Hit enter when finished: ········\n",
      "Please enter you client-secret. Hit enter when finished: ········\n"
     ]
    }
   ],
   "source": [
    "client_id_input = getpass.getpass(\"Please enter you client-id. Hit enter when finished: \")\n",
    "client_secret_input = getpass.getpass(\"Please enter you client-secret. Hit enter when finished: \")"
   ]
  },
  {
   "cell_type": "code",
   "execution_count": 119,
   "metadata": {},
   "outputs": [],
   "source": [
    "accounts = ga.authenticate(client_id=client_id_input,client_secret=client_secret_input,identity='myproj',interactive=True)"
   ]
  },
  {
   "cell_type": "code",
   "execution_count": 120,
   "metadata": {},
   "outputs": [],
   "source": [
    "locations = {}\n",
    "locations['Albany Koaa'] = 'https://albany.kidsoutandabout.com/'\n",
    "locations['Ann Arbor-Detroit Koaa'] = 'https://annarbordetroit.kidsoutandabout.com/'\n",
    "locations['Atlanta Koaa'] = 'https://atlanta.kidsoutandabout.com/'\n",
    "locations['Austin Koaa'] = 'https://austin.kidsoutandabout.com/'\n",
    "locations['Buffalo Koaa'] = 'https://buffalo.kidsoutandabout.com//'\n",
    "locations['Charlotte Koaa'] = 'https://charlotte.kidsoutandabout.com/'\n",
    "locations['Dallas Koaa'] = 'https://dallas.kidsoutandabout.com/'\n",
    "locations['Denver Koaa'] = 'https://denver.kidsoutandabout.com/'\n",
    "locations['DMV Koaa'] = 'https://dmv.kidsoutandabout.com/'\n",
    "locations['Fairfield County Koaa'] = 'https://fairfieldcounty.kidsoutandabout.com/'\n",
    "locations['Ft Worth Koaa'] = 'https://ftworth.kidsoutandabout.com/'\n",
    "locations['Hartford Koaa'] = 'https://hartford.kidsoutandabout.com/'\n",
    "locations['Houston Koaa'] = 'https://houston.kidsoutandabout.com/'\n",
    "locations['Hudson Valley Koaa'] = 'https://hudsonvalley.kidsoutandabout.com/'\n",
    "locations['Indianapolis Koaa'] = 'https://indianapolis.kidsoutandabout.com/'\n",
    "locations['Jacksonville Koaa'] = 'https://jacksonville.kidsoutandabout.com/'\n",
    "locations['Kansas City Koaa'] = 'https://kc.kidsoutandabout.com/'\n",
    "locations['Memphis Koaa'] = 'https://memphis.kidsoutandabout.com/'\n",
    "locations['Midcities Koaa'] = 'https://midcities.kidsoutandabout.com/'\n",
    "locations['Milwaukee Koaa'] = 'https://milwaukee.kidsoutandabout.com/'\n",
    "locations['Minneapolis/St. Paul Koaa'] = 'https://msp.kidsoutandabout.com/'\n",
    "locations['Nashville Koaa'] = 'https://nashville.kidsoutandabout.com/'\n",
    "locations['Nassau Koaa'] = 'https://longisland.kidsoutandabout.com/'\n",
    "locations['Philadelphia Koaa'] = 'https://philly.kidsoutandabout.com/'\n",
    "locations['Phoenix Koaa'] = 'https://phoenix.kidsoutandabout.com/'\n",
    "locations['Pittsburgh Koaa'] = 'https://pittsburgh.kidsoutandabout.com/'\n",
    "locations['Providence Koaa'] = 'https://providence.kidsoutandabout.com/'\n",
    "locations['Research Triangle Koaa'] = 'https://rt.kidsoutandabout.com/'\n",
    "locations['Rochester Koaa'] = 'https://rochester.kidsoutandabout.com/'\n",
    "locations['Saint Louis Koaa'] = 'https://saintlouis.kidsoutandabout.com/'\n",
    "locations['Salt Lake City Koaa'] = 'https://saltlakecity.kidsoutandabout.com/'\n",
    "locations['San Antonio Koaa'] = 'https://sanantonio.kidsoutandabout.com/'\n",
    "locations['Tampa Koaa'] = 'https://tampa.kidsoutandabout.com/'\n",
    "locations['Toronto Koaa'] = 'https://toronto.kidsoutandabout.com/'\n",
    "locations['Vancouver Koaa'] = 'https://vancouver.kidsoutandabout.com/'\n",
    "locations['Westchester Koaa'] = 'https://westchester.kidsoutandabout.com/'"
   ]
  },
  {
   "cell_type": "code",
   "execution_count": 122,
   "metadata": {},
   "outputs": [
    {
     "name": "stdout",
     "output_type": "stream",
     "text": [
      "Would you like to extract data for all the locations? Enter Yes or No: no\n",
      "Please enter the start date in YYYY-MM-DD format: 2019-11-01\n",
      "Please enter the end date in YYYY-MM-DD format: 2020-02-01\n",
      "Enter a list of all the cities,separated by a comma. Hit enter when you finished: albany,toronto\n"
     ]
    }
   ],
   "source": [
    "data_extraction_choice = input(\"Would you like to extract data for all the locations? Enter Yes or No: \")\n",
    "if data_extraction_choice == \"Yes\".casefold() or data_extraction_choice == \"YES\":\n",
    "    start_date = str(input(\"Please enter the start date in YYYY-MM-DD format: \"))\n",
    "    end_date = str(input(\"Please enter the end date in YYYY-MM-DD format: \"))\n",
    "    \n",
    "    report = {}\n",
    "    report_df = {}\n",
    "    data_frames = {}\n",
    "    for i in locations:\n",
    "        profile = accounts[0].webproperties[i].profile\n",
    "        j=0\n",
    "        report[\"report_{0}\".format(i)] = profile.core.query.monthly(start_date, end_date).dimensions('Page').metrics('Pageviews').as_dataframe()\n",
    "        if list(locations.keys()).index(i)==j:\n",
    "            j=j+1\n",
    "        report_df_1 = pd.DataFrame(report[\"report_{0}\".format(i)])\n",
    "        report_df_1 = report_df_1.sort_values(by='pageviews', ascending=False)\n",
    "        report_df_1 = report_df_1.reset_index(drop=True)\n",
    "        report_df_1 = report_df_1.drop(report_df_1[report_df_1.pageviews==0].index)\n",
    "        report_df_1['page_path'] = report_df_1['page_path'].apply(lambda x: locations[i]+str(x))\n",
    "        #Make sure to change the file path below\n",
    "        report_df_1.to_csv('/Users/tanmaythakkar/Desktop/Test22/' + i + \".csv\", index = False)\n",
    "        #data_frames[\"report_{0}\".format(i)] = report_df_1\n",
    "        \n",
    "if data_extraction_choice =='No'.casefold() or data_extraction_choice =='NO':\n",
    "    start_date = str(input(\"Please enter the start date in YYYY-MM-DD format: \"))\n",
    "    end_date = str(input(\"Please enter the end date in YYYY-MM-DD format: \"))\n",
    "    \n",
    "    location_choice=input(\"Enter a list of all the cities,separated by a comma. Hit enter when you finished: \")\n",
    "    values = location_choice.split(',')\n",
    "    values_2 = {}\n",
    "    for i in values:\n",
    "        values_2[i.capitalize()+\" Koaa\"] = locations[i.capitalize()+\" Koaa\"]\n",
    "    report = {}\n",
    "    report_df = {}\n",
    "    data_frames = {}\n",
    "    for i in values_2:\n",
    "        profile = accounts[0].webproperties[i].profile\n",
    "        j=0\n",
    "        report[\"report_{0}\".format(i)] = profile.core.query.monthly(start_date, end_date).dimensions('Page').metrics('Pageviews').as_dataframe()\n",
    "        if list(values_2.keys()).index(i)==j:\n",
    "            j=j+1\n",
    "        report_df_1 = pd.DataFrame(report[\"report_{0}\".format(i)])\n",
    "        report_df_1 = report_df_1.sort_values(by='pageviews', ascending=False)\n",
    "        report_df_1 = report_df_1.reset_index(drop=True)\n",
    "        report_df_1 = report_df_1.drop(report_df_1[report_df_1.pageviews==0].index)\n",
    "        report_df_1['page_path'] = report_df_1['page_path'].apply(lambda x: values_2[i]+str(x))\n",
    "        #Make sure to change the file path below\n",
    "        report_df_1.to_csv('/Users/tanmaythakkar/Desktop/Test22/' + i + \".csv\", index = False)\n",
    "        #data_frames[\"report_{0}\".format(i)] = report_df_1"
   ]
  },
  {
   "cell_type": "code",
   "execution_count": null,
   "metadata": {},
   "outputs": [],
   "source": []
  }
 ],
 "metadata": {
  "kernelspec": {
   "display_name": "Python 3",
   "language": "python",
   "name": "python3"
  },
  "language_info": {
   "codemirror_mode": {
    "name": "ipython",
    "version": 3
   },
   "file_extension": ".py",
   "mimetype": "text/x-python",
   "name": "python",
   "nbconvert_exporter": "python",
   "pygments_lexer": "ipython3",
   "version": "3.7.4"
  }
 },
 "nbformat": 4,
 "nbformat_minor": 2
}
